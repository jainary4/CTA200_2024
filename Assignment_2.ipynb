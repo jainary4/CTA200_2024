{
  "nbformat": 4,
  "nbformat_minor": 0,
  "metadata": {
    "colab": {
      "provenance": [],
      "authorship_tag": "ABX9TyMjXjr/uKxBez793hRIiyfz",
      "include_colab_link": true
    },
    "kernelspec": {
      "name": "python3",
      "display_name": "Python 3"
    },
    "language_info": {
      "name": "python"
    }
  },
  "cells": [
    {
      "cell_type": "markdown",
      "metadata": {
        "id": "view-in-github",
        "colab_type": "text"
      },
      "source": [
        "<a href=\"https://colab.research.google.com/github/jainary4/CTA200_2024/blob/main/Assignment_2.ipynb\" target=\"_parent\"><img src=\"https://colab.research.google.com/assets/colab-badge.svg\" alt=\"Open In Colab\"/></a>"
      ]
    },
    {
      "cell_type": "code",
      "execution_count": 47,
      "metadata": {
        "id": "b2djaZ9m_11s"
      },
      "outputs": [],
      "source": [
        "import numpy as np\n",
        "\n",
        "def f(x):\n",
        "    \"\"\"\n",
        "    This function calculates the function x^3-x^2-1\n",
        "    x:  is a floating point number\n",
        "    returns a floating point number which is the value of the function for the given input x\n",
        "    \"\"\"\n",
        "    return x**3 - x**2 - 1\n",
        "\n",
        "def df(f, x, h):\n",
        "    \"\"\"\n",
        "    This function takes in the input value at which we want to find the derivative,\n",
        "    the input also contains the function whose derivative we want to find\n",
        "    and the a parameter h that is our append factor because ideally we are calculating (f(x+h)-f(x-h))/2*h\n",
        "\n",
        "    returns (f(x+h)-f(x-h))/2*h\n",
        "    \"\"\"\n",
        "    return (f(x+h) - f(x-h)) / (2*h)\n",
        "\n",
        "import numpy as np\n",
        "\n",
        "def newton(f, df, x0, epsilon=1e-6, max_iter=30):\n",
        "    \"\"\"\n",
        "    This function calculates roots of a given function.\n",
        "    Parameters:\n",
        "    f: the function whose roots we calculate\n",
        "    df: the derivative function of f\n",
        "    x0: our initial guess for the root\n",
        "    epsilon: is our tolerance to the error in the root\n",
        "    max_iter: number of times we run the iterative algorithm for\n",
        "    \"\"\"\n",
        "\n",
        "    n = 0\n",
        "    x = x0\n",
        "    while n <= max_iter and np.abs(f(x)) > epsilon:\n",
        "        x = x - (f(x) / df(f, x, 0.01))\n",
        "        n += 1\n",
        "\n",
        "    if np.abs(f(x)) <= epsilon:\n",
        "        print(\"Found root in\", n, \"iterations and the value of x at which the root found is:\", x)\n",
        "    elif n > max_iter:\n",
        "        print(\"Iteration failed\")\n",
        "        return None\n",
        "\n",
        "# Example usage, assuming f and df are properly defined:\n",
        "# newton(f, df, 1.5)\n",
        "\n",
        "\n"
      ]
    },
    {
      "cell_type": "code",
      "source": [
        "newton(f,df,3)\n",
        "newton(f, df ,0)"
      ],
      "metadata": {
        "colab": {
          "base_uri": "https://localhost:8080/"
        },
        "id": "BZpIyxHqGSIK",
        "outputId": "355c26cc-05d4-47bb-9fce-12f9823b91bc"
      },
      "execution_count": 48,
      "outputs": [
        {
          "output_type": "stream",
          "name": "stdout",
          "text": [
            "Found root in 6 iterations and the value of x at which the root found is: 1.465571231998599\n",
            "Found root in 27 iterations and the value of x at which the root found is: 1.465571236982017\n"
          ]
        }
      ]
    }
  ]
}